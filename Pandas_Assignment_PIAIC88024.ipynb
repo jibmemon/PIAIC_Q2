{
  "nbformat": 4,
  "nbformat_minor": 0,
  "metadata": {
    "colab": {
      "name": "Pandas_Assignment.ipynb",
      "provenance": [],
      "collapsed_sections": [],
      "toc_visible": true
    },
    "kernelspec": {
      "name": "python3",
      "display_name": "Python 3"
    }
  },
  "cells": [
    {
      "cell_type": "code",
      "metadata": {
        "id": "6-KDlppz7GJQ"
      },
      "source": [
        "import pandas as pd\r\n",
        "import numpy as np \r\n",
        "import matplotlib.pyplot as plt\r\n",
        "from glob import glob"
      ],
      "execution_count": 8,
      "outputs": []
    },
    {
      "cell_type": "markdown",
      "metadata": {
        "id": "heWyXa7_BkBe"
      },
      "source": [
        "# **Part1**"
      ]
    },
    {
      "cell_type": "markdown",
      "metadata": {
        "id": "EIs3tKm_C_qQ"
      },
      "source": [
        "Inspect the Data!\r\n",
        "1.\r\n",
        "The first visualization your boss wants you to make is a scatterplot that shows average income in a state vs proportion of women in that state.\r\n",
        "\r\n",
        "Open some of the census csv files in the navigator. How are they named? What kind of information do they hold? Will they help us make this graph?\r\n"
      ]
    },
    {
      "cell_type": "code",
      "metadata": {
        "id": "EAL8k_nYBiml"
      },
      "source": [
        ""
      ],
      "execution_count": 8,
      "outputs": []
    },
    {
      "cell_type": "markdown",
      "metadata": {
        "id": "EKeVsofQDJlq"
      },
      "source": [
        "2.\r\n",
        "It will be easier to inspect this data once we have it in a DataFrame. You can’t even call .head() on these csvs! How are you supposed to read them?\r\n",
        "\r\n",
        "Using glob, loop through the census files available and load them into DataFrames. Then, concatenate all of those DataFrames together into one DataFrame, called something like us_census.\r\n"
      ]
    },
    {
      "cell_type": "code",
      "metadata": {
        "colab": {
          "base_uri": "https://localhost:8080/"
        },
        "id": "1SfJyO_GBiz_",
        "outputId": "874b75d7-2f64-4331-a0c2-c1116ede10ad"
      },
      "source": [
        "files = glob(\"states*\")\r\n",
        "files"
      ],
      "execution_count": 10,
      "outputs": [
        {
          "output_type": "execute_result",
          "data": {
            "text/plain": [
              "['states8.csv',\n",
              " 'states3.csv',\n",
              " 'states4.csv',\n",
              " 'states5.csv',\n",
              " 'states7.csv',\n",
              " 'states1.csv',\n",
              " 'states9.csv',\n",
              " 'states2.csv',\n",
              " 'states0.csv',\n",
              " 'states6.csv']"
            ]
          },
          "metadata": {
            "tags": []
          },
          "execution_count": 10
        }
      ]
    },
    {
      "cell_type": "code",
      "metadata": {
        "colab": {
          "base_uri": "https://localhost:8080/",
          "height": 292
        },
        "id": "oniMWwc0Ee7H",
        "outputId": "fabb937c-12af-4dde-ac64-7689fa422cfd"
      },
      "source": [
        "us_census = pd.concat((pd.read_csv(file) for file in files ),ignore_index=True)\r\n",
        "us_census.head()"
      ],
      "execution_count": 12,
      "outputs": [
        {
          "output_type": "execute_result",
          "data": {
            "text/html": [
              "<div>\n",
              "<style scoped>\n",
              "    .dataframe tbody tr th:only-of-type {\n",
              "        vertical-align: middle;\n",
              "    }\n",
              "\n",
              "    .dataframe tbody tr th {\n",
              "        vertical-align: top;\n",
              "    }\n",
              "\n",
              "    .dataframe thead th {\n",
              "        text-align: right;\n",
              "    }\n",
              "</style>\n",
              "<table border=\"1\" class=\"dataframe\">\n",
              "  <thead>\n",
              "    <tr style=\"text-align: right;\">\n",
              "      <th></th>\n",
              "      <th>Unnamed: 0</th>\n",
              "      <th>State</th>\n",
              "      <th>TotalPop</th>\n",
              "      <th>Hispanic</th>\n",
              "      <th>White</th>\n",
              "      <th>Black</th>\n",
              "      <th>Native</th>\n",
              "      <th>Asian</th>\n",
              "      <th>Pacific</th>\n",
              "      <th>Income</th>\n",
              "      <th>GenderPop</th>\n",
              "    </tr>\n",
              "  </thead>\n",
              "  <tbody>\n",
              "    <tr>\n",
              "      <th>0</th>\n",
              "      <td>0</td>\n",
              "      <td>Rhode Island</td>\n",
              "      <td>1053661</td>\n",
              "      <td>13.356666666666678%</td>\n",
              "      <td>74.32541666666665%</td>\n",
              "      <td>5.68291666666667%</td>\n",
              "      <td>0.3462500000000001%</td>\n",
              "      <td>3.2474999999999983%</td>\n",
              "      <td>0.035833333333333335%</td>\n",
              "      <td>$59125.270833333336</td>\n",
              "      <td>510388M_543273F</td>\n",
              "    </tr>\n",
              "    <tr>\n",
              "      <th>1</th>\n",
              "      <td>1</td>\n",
              "      <td>South Carolina</td>\n",
              "      <td>4777576</td>\n",
              "      <td>5.056684981684991%</td>\n",
              "      <td>62.888736263736185%</td>\n",
              "      <td>28.75091575091577%</td>\n",
              "      <td>0.2923992673992673%</td>\n",
              "      <td>1.249175824175822%</td>\n",
              "      <td>0.046978021978021964%</td>\n",
              "      <td>$46296.807763401106</td>\n",
              "      <td>2322409M_2455167F</td>\n",
              "    </tr>\n",
              "    <tr>\n",
              "      <th>2</th>\n",
              "      <td>2</td>\n",
              "      <td>South Dakota</td>\n",
              "      <td>843190</td>\n",
              "      <td>3.2396396396396376%</td>\n",
              "      <td>82.50090090090092%</td>\n",
              "      <td>1.4238738738738752%</td>\n",
              "      <td>9.417567567567566%</td>\n",
              "      <td>1.0193693693693688%</td>\n",
              "      <td>0.04189189189189189%</td>\n",
              "      <td>$51805.40540540541</td>\n",
              "      <td>423477M_419713F</td>\n",
              "    </tr>\n",
              "    <tr>\n",
              "      <th>3</th>\n",
              "      <td>3</td>\n",
              "      <td>Tennessee</td>\n",
              "      <td>6499615</td>\n",
              "      <td>4.720026972353339%</td>\n",
              "      <td>73.49008766014822%</td>\n",
              "      <td>18.283816587997297%</td>\n",
              "      <td>0.22663519892110592%</td>\n",
              "      <td>1.4072825354012126%</td>\n",
              "      <td>0.04315576534052599%</td>\n",
              "      <td>$47328.083616587355</td>\n",
              "      <td>3167756M_3331859F</td>\n",
              "    </tr>\n",
              "    <tr>\n",
              "      <th>4</th>\n",
              "      <td>4</td>\n",
              "      <td>Texas</td>\n",
              "      <td>26538614</td>\n",
              "      <td>38.04673809068304%</td>\n",
              "      <td>44.687908934379145%</td>\n",
              "      <td>11.65004782858236%</td>\n",
              "      <td>0.26114405969007126%</td>\n",
              "      <td>3.6696958102161825%</td>\n",
              "      <td>0.06881576430074614%</td>\n",
              "      <td>$55874.522600500095</td>\n",
              "      <td>13171316M_13367298F</td>\n",
              "    </tr>\n",
              "  </tbody>\n",
              "</table>\n",
              "</div>"
            ],
            "text/plain": [
              "   Unnamed: 0           State  ...               Income            GenderPop\n",
              "0           0    Rhode Island  ...  $59125.270833333336      510388M_543273F\n",
              "1           1  South Carolina  ...  $46296.807763401106    2322409M_2455167F\n",
              "2           2    South Dakota  ...   $51805.40540540541      423477M_419713F\n",
              "3           3       Tennessee  ...  $47328.083616587355    3167756M_3331859F\n",
              "4           4           Texas  ...  $55874.522600500095  13171316M_13367298F\n",
              "\n",
              "[5 rows x 11 columns]"
            ]
          },
          "metadata": {
            "tags": []
          },
          "execution_count": 12
        }
      ]
    },
    {
      "cell_type": "markdown",
      "metadata": {
        "id": "HwysgYeTEhPP"
      },
      "source": [
        "3.\r\n",
        "Look at the .columns and the .dtypes of the us_census DataFrame. Are those datatypes going to hinder you as you try to make histograms?"
      ]
    },
    {
      "cell_type": "code",
      "metadata": {
        "colab": {
          "base_uri": "https://localhost:8080/"
        },
        "id": "geyBiR3XBi98",
        "outputId": "8c1eed48-fcf8-4af3-b527-274f51a35fca"
      },
      "source": [
        "us_census.columns"
      ],
      "execution_count": 13,
      "outputs": [
        {
          "output_type": "execute_result",
          "data": {
            "text/plain": [
              "Index(['Unnamed: 0', 'State', 'TotalPop', 'Hispanic', 'White', 'Black',\n",
              "       'Native', 'Asian', 'Pacific', 'Income', 'GenderPop'],\n",
              "      dtype='object')"
            ]
          },
          "metadata": {
            "tags": []
          },
          "execution_count": 13
        }
      ]
    },
    {
      "cell_type": "code",
      "metadata": {
        "colab": {
          "base_uri": "https://localhost:8080/"
        },
        "id": "5G47-ypYEjeG",
        "outputId": "95459c8e-63fb-490b-80ed-98f1bb49dabb"
      },
      "source": [
        " us_census.dtypes"
      ],
      "execution_count": 14,
      "outputs": [
        {
          "output_type": "execute_result",
          "data": {
            "text/plain": [
              "Unnamed: 0     int64\n",
              "State         object\n",
              "TotalPop       int64\n",
              "Hispanic      object\n",
              "White         object\n",
              "Black         object\n",
              "Native        object\n",
              "Asian         object\n",
              "Pacific       object\n",
              "Income        object\n",
              "GenderPop     object\n",
              "dtype: object"
            ]
          },
          "metadata": {
            "tags": []
          },
          "execution_count": 14
        }
      ]
    },
    {
      "cell_type": "markdown",
      "metadata": {
        "id": "fvO1JOhmE5c-"
      },
      "source": [
        "4.\r\n",
        "Look at the .head() of the DataFrame so that you can understand why some of these dtypes are objects instead of integers or floats.\r\n",
        "\r\n",
        "Start to make a plan for how to convert these columns into the right types for manipulation.\r\n"
      ]
    },
    {
      "cell_type": "code",
      "metadata": {
        "colab": {
          "base_uri": "https://localhost:8080/",
          "height": 292
        },
        "id": "-vuAFzUDEjfs",
        "outputId": "84a5f49f-7db9-490d-d28c-2a4fa64d4f5f"
      },
      "source": [
        "us_census.head()"
      ],
      "execution_count": 15,
      "outputs": [
        {
          "output_type": "execute_result",
          "data": {
            "text/html": [
              "<div>\n",
              "<style scoped>\n",
              "    .dataframe tbody tr th:only-of-type {\n",
              "        vertical-align: middle;\n",
              "    }\n",
              "\n",
              "    .dataframe tbody tr th {\n",
              "        vertical-align: top;\n",
              "    }\n",
              "\n",
              "    .dataframe thead th {\n",
              "        text-align: right;\n",
              "    }\n",
              "</style>\n",
              "<table border=\"1\" class=\"dataframe\">\n",
              "  <thead>\n",
              "    <tr style=\"text-align: right;\">\n",
              "      <th></th>\n",
              "      <th>Unnamed: 0</th>\n",
              "      <th>State</th>\n",
              "      <th>TotalPop</th>\n",
              "      <th>Hispanic</th>\n",
              "      <th>White</th>\n",
              "      <th>Black</th>\n",
              "      <th>Native</th>\n",
              "      <th>Asian</th>\n",
              "      <th>Pacific</th>\n",
              "      <th>Income</th>\n",
              "      <th>GenderPop</th>\n",
              "    </tr>\n",
              "  </thead>\n",
              "  <tbody>\n",
              "    <tr>\n",
              "      <th>0</th>\n",
              "      <td>0</td>\n",
              "      <td>Rhode Island</td>\n",
              "      <td>1053661</td>\n",
              "      <td>13.356666666666678%</td>\n",
              "      <td>74.32541666666665%</td>\n",
              "      <td>5.68291666666667%</td>\n",
              "      <td>0.3462500000000001%</td>\n",
              "      <td>3.2474999999999983%</td>\n",
              "      <td>0.035833333333333335%</td>\n",
              "      <td>$59125.270833333336</td>\n",
              "      <td>510388M_543273F</td>\n",
              "    </tr>\n",
              "    <tr>\n",
              "      <th>1</th>\n",
              "      <td>1</td>\n",
              "      <td>South Carolina</td>\n",
              "      <td>4777576</td>\n",
              "      <td>5.056684981684991%</td>\n",
              "      <td>62.888736263736185%</td>\n",
              "      <td>28.75091575091577%</td>\n",
              "      <td>0.2923992673992673%</td>\n",
              "      <td>1.249175824175822%</td>\n",
              "      <td>0.046978021978021964%</td>\n",
              "      <td>$46296.807763401106</td>\n",
              "      <td>2322409M_2455167F</td>\n",
              "    </tr>\n",
              "    <tr>\n",
              "      <th>2</th>\n",
              "      <td>2</td>\n",
              "      <td>South Dakota</td>\n",
              "      <td>843190</td>\n",
              "      <td>3.2396396396396376%</td>\n",
              "      <td>82.50090090090092%</td>\n",
              "      <td>1.4238738738738752%</td>\n",
              "      <td>9.417567567567566%</td>\n",
              "      <td>1.0193693693693688%</td>\n",
              "      <td>0.04189189189189189%</td>\n",
              "      <td>$51805.40540540541</td>\n",
              "      <td>423477M_419713F</td>\n",
              "    </tr>\n",
              "    <tr>\n",
              "      <th>3</th>\n",
              "      <td>3</td>\n",
              "      <td>Tennessee</td>\n",
              "      <td>6499615</td>\n",
              "      <td>4.720026972353339%</td>\n",
              "      <td>73.49008766014822%</td>\n",
              "      <td>18.283816587997297%</td>\n",
              "      <td>0.22663519892110592%</td>\n",
              "      <td>1.4072825354012126%</td>\n",
              "      <td>0.04315576534052599%</td>\n",
              "      <td>$47328.083616587355</td>\n",
              "      <td>3167756M_3331859F</td>\n",
              "    </tr>\n",
              "    <tr>\n",
              "      <th>4</th>\n",
              "      <td>4</td>\n",
              "      <td>Texas</td>\n",
              "      <td>26538614</td>\n",
              "      <td>38.04673809068304%</td>\n",
              "      <td>44.687908934379145%</td>\n",
              "      <td>11.65004782858236%</td>\n",
              "      <td>0.26114405969007126%</td>\n",
              "      <td>3.6696958102161825%</td>\n",
              "      <td>0.06881576430074614%</td>\n",
              "      <td>$55874.522600500095</td>\n",
              "      <td>13171316M_13367298F</td>\n",
              "    </tr>\n",
              "  </tbody>\n",
              "</table>\n",
              "</div>"
            ],
            "text/plain": [
              "   Unnamed: 0           State  ...               Income            GenderPop\n",
              "0           0    Rhode Island  ...  $59125.270833333336      510388M_543273F\n",
              "1           1  South Carolina  ...  $46296.807763401106    2322409M_2455167F\n",
              "2           2    South Dakota  ...   $51805.40540540541      423477M_419713F\n",
              "3           3       Tennessee  ...  $47328.083616587355    3167756M_3331859F\n",
              "4           4           Texas  ...  $55874.522600500095  13171316M_13367298F\n",
              "\n",
              "[5 rows x 11 columns]"
            ]
          },
          "metadata": {
            "tags": []
          },
          "execution_count": 15
        }
      ]
    },
    {
      "cell_type": "markdown",
      "metadata": {
        "id": "dgnT-sLmE4JL"
      },
      "source": [
        "5.\r\n",
        "Use regex to turn the Income column into a format that is ready for conversion into a numerical type.\r\n"
      ]
    },
    {
      "cell_type": "code",
      "metadata": {
        "id": "WH_mZN_fEjj8"
      },
      "source": [
        "us_census[\"Income\"] = us_census[\"Income\"].str.replace(\"$\",\"\",regex = True)\r\n",
        "us_census[\"Income\"] = pd.to_numeric(us_census[\"Income\"])"
      ],
      "execution_count": 16,
      "outputs": []
    },
    {
      "cell_type": "code",
      "metadata": {
        "colab": {
          "base_uri": "https://localhost:8080/"
        },
        "id": "3dnZjgxVIfLT",
        "outputId": "fe6952a7-c9bf-407a-a0c2-63d9b0e25965"
      },
      "source": [
        "us_census.dtypes"
      ],
      "execution_count": 17,
      "outputs": [
        {
          "output_type": "execute_result",
          "data": {
            "text/plain": [
              "Unnamed: 0      int64\n",
              "State          object\n",
              "TotalPop        int64\n",
              "Hispanic       object\n",
              "White          object\n",
              "Black          object\n",
              "Native         object\n",
              "Asian          object\n",
              "Pacific        object\n",
              "Income        float64\n",
              "GenderPop      object\n",
              "dtype: object"
            ]
          },
          "metadata": {
            "tags": []
          },
          "execution_count": 17
        }
      ]
    },
    {
      "cell_type": "markdown",
      "metadata": {
        "id": "4Hl94itxGJp5"
      },
      "source": [
        "6.\r\n",
        "Look at the GenderPop column. We are going to want to separate this into two columns, the Men column, and the Women column.\r\n",
        "\r\n",
        "Split the column into those two new columns using str.split and separating out those results.\r\n"
      ]
    },
    {
      "cell_type": "code",
      "metadata": {
        "id": "ySjBvNPzEjlb"
      },
      "source": [
        "us_census[[\"the Men\",\"the Women\"]] = us_census[\"GenderPop\"].str.split(\"_\",expand = True)"
      ],
      "execution_count": 18,
      "outputs": []
    },
    {
      "cell_type": "code",
      "metadata": {
        "colab": {
          "base_uri": "https://localhost:8080/",
          "height": 292
        },
        "id": "r_blCSNnEjp3",
        "outputId": "d9ed3cc2-a26e-4d48-bdd6-985a6b97d91e"
      },
      "source": [
        "us_census.head()"
      ],
      "execution_count": 19,
      "outputs": [
        {
          "output_type": "execute_result",
          "data": {
            "text/html": [
              "<div>\n",
              "<style scoped>\n",
              "    .dataframe tbody tr th:only-of-type {\n",
              "        vertical-align: middle;\n",
              "    }\n",
              "\n",
              "    .dataframe tbody tr th {\n",
              "        vertical-align: top;\n",
              "    }\n",
              "\n",
              "    .dataframe thead th {\n",
              "        text-align: right;\n",
              "    }\n",
              "</style>\n",
              "<table border=\"1\" class=\"dataframe\">\n",
              "  <thead>\n",
              "    <tr style=\"text-align: right;\">\n",
              "      <th></th>\n",
              "      <th>Unnamed: 0</th>\n",
              "      <th>State</th>\n",
              "      <th>TotalPop</th>\n",
              "      <th>Hispanic</th>\n",
              "      <th>White</th>\n",
              "      <th>Black</th>\n",
              "      <th>Native</th>\n",
              "      <th>Asian</th>\n",
              "      <th>Pacific</th>\n",
              "      <th>Income</th>\n",
              "      <th>GenderPop</th>\n",
              "      <th>the Men</th>\n",
              "      <th>the Women</th>\n",
              "    </tr>\n",
              "  </thead>\n",
              "  <tbody>\n",
              "    <tr>\n",
              "      <th>0</th>\n",
              "      <td>0</td>\n",
              "      <td>Rhode Island</td>\n",
              "      <td>1053661</td>\n",
              "      <td>13.356666666666678%</td>\n",
              "      <td>74.32541666666665%</td>\n",
              "      <td>5.68291666666667%</td>\n",
              "      <td>0.3462500000000001%</td>\n",
              "      <td>3.2474999999999983%</td>\n",
              "      <td>0.035833333333333335%</td>\n",
              "      <td>59125.270833</td>\n",
              "      <td>510388M_543273F</td>\n",
              "      <td>510388M</td>\n",
              "      <td>543273F</td>\n",
              "    </tr>\n",
              "    <tr>\n",
              "      <th>1</th>\n",
              "      <td>1</td>\n",
              "      <td>South Carolina</td>\n",
              "      <td>4777576</td>\n",
              "      <td>5.056684981684991%</td>\n",
              "      <td>62.888736263736185%</td>\n",
              "      <td>28.75091575091577%</td>\n",
              "      <td>0.2923992673992673%</td>\n",
              "      <td>1.249175824175822%</td>\n",
              "      <td>0.046978021978021964%</td>\n",
              "      <td>46296.807763</td>\n",
              "      <td>2322409M_2455167F</td>\n",
              "      <td>2322409M</td>\n",
              "      <td>2455167F</td>\n",
              "    </tr>\n",
              "    <tr>\n",
              "      <th>2</th>\n",
              "      <td>2</td>\n",
              "      <td>South Dakota</td>\n",
              "      <td>843190</td>\n",
              "      <td>3.2396396396396376%</td>\n",
              "      <td>82.50090090090092%</td>\n",
              "      <td>1.4238738738738752%</td>\n",
              "      <td>9.417567567567566%</td>\n",
              "      <td>1.0193693693693688%</td>\n",
              "      <td>0.04189189189189189%</td>\n",
              "      <td>51805.405405</td>\n",
              "      <td>423477M_419713F</td>\n",
              "      <td>423477M</td>\n",
              "      <td>419713F</td>\n",
              "    </tr>\n",
              "    <tr>\n",
              "      <th>3</th>\n",
              "      <td>3</td>\n",
              "      <td>Tennessee</td>\n",
              "      <td>6499615</td>\n",
              "      <td>4.720026972353339%</td>\n",
              "      <td>73.49008766014822%</td>\n",
              "      <td>18.283816587997297%</td>\n",
              "      <td>0.22663519892110592%</td>\n",
              "      <td>1.4072825354012126%</td>\n",
              "      <td>0.04315576534052599%</td>\n",
              "      <td>47328.083617</td>\n",
              "      <td>3167756M_3331859F</td>\n",
              "      <td>3167756M</td>\n",
              "      <td>3331859F</td>\n",
              "    </tr>\n",
              "    <tr>\n",
              "      <th>4</th>\n",
              "      <td>4</td>\n",
              "      <td>Texas</td>\n",
              "      <td>26538614</td>\n",
              "      <td>38.04673809068304%</td>\n",
              "      <td>44.687908934379145%</td>\n",
              "      <td>11.65004782858236%</td>\n",
              "      <td>0.26114405969007126%</td>\n",
              "      <td>3.6696958102161825%</td>\n",
              "      <td>0.06881576430074614%</td>\n",
              "      <td>55874.522601</td>\n",
              "      <td>13171316M_13367298F</td>\n",
              "      <td>13171316M</td>\n",
              "      <td>13367298F</td>\n",
              "    </tr>\n",
              "  </tbody>\n",
              "</table>\n",
              "</div>"
            ],
            "text/plain": [
              "   Unnamed: 0           State  ...    the Men  the Women\n",
              "0           0    Rhode Island  ...    510388M    543273F\n",
              "1           1  South Carolina  ...   2322409M   2455167F\n",
              "2           2    South Dakota  ...    423477M    419713F\n",
              "3           3       Tennessee  ...   3167756M   3331859F\n",
              "4           4           Texas  ...  13171316M  13367298F\n",
              "\n",
              "[5 rows x 13 columns]"
            ]
          },
          "metadata": {
            "tags": []
          },
          "execution_count": 19
        }
      ]
    },
    {
      "cell_type": "markdown",
      "metadata": {
        "id": "HfmMAlrxJWhv"
      },
      "source": [
        "7.Convert both of the columns into numerical datatypes.\r\n",
        "\r\n",
        "There is still an M or an F character in each entry! We should remove those before we convert."
      ]
    },
    {
      "cell_type": "code",
      "metadata": {
        "id": "wHvvm8KrBjK6"
      },
      "source": [
        "us_census[\"the Men\"] = us_census[\"the Men\"].str.replace(\"M\",\"\")\r\n",
        "us_census[\"the Men\"] = pd.to_numeric(us_census[\"the Men\"])"
      ],
      "execution_count": 20,
      "outputs": []
    },
    {
      "cell_type": "code",
      "metadata": {
        "id": "Uld8ogreJ_U7"
      },
      "source": [
        "us_census[\"the Women\"] = us_census[\"the Women\"].str.replace(\"F\",\"\")\r\n",
        "us_census[\"the Women\"] = pd.to_numeric(us_census[\"the Women\"])"
      ],
      "execution_count": 21,
      "outputs": []
    },
    {
      "cell_type": "markdown",
      "metadata": {
        "id": "FiFx-qsxPIfv"
      },
      "source": [
        "8.\r\n",
        "Now you should have the columns you need to make the graph and make sure your boss does not slam a ruler angrily on your desk because you’ve wasted your whole day cleaning your data with no results to show!\r\n",
        "\r\n",
        "Use matplotlib to make a scatterplot!\r\n",
        "\r\n",
        "plt.scatter(the_women_column, the_income_column) \r\n",
        "Remember to call plt.show() to see the graph!\r\n"
      ]
    },
    {
      "cell_type": "code",
      "metadata": {
        "id": "LcN571cOO6_s",
        "colab": {
          "base_uri": "https://localhost:8080/",
          "height": 278
        },
        "outputId": "5902e995-4bf3-4100-ffcd-7e57f4d9b538"
      },
      "source": [
        "plt.scatter(us_census[\"the Women\"], us_census[\"Income\"])\r\n",
        "plt.show()"
      ],
      "execution_count": 22,
      "outputs": [
        {
          "output_type": "display_data",
          "data": {
            "image/png": "[encoded data removed]",
            "text/plain": [
              "<Figure size 432x288 with 1 Axes>"
            ]
          },
          "metadata": {
            "tags": [],
            "needs_background": "light"
          }
        }
      ]
    },
    {
      "cell_type": "markdown",
      "metadata": {
        "id": "3UDU4iWyPqJb"
      },
      "source": [
        "9.\r\n",
        "Did you get an error? These monstrous csv files probably have nan values in them! Print out your column with the number of women per state to see.\r\n",
        "\r\n",
        "We can fill in those nans by using pandas’ .fillna() function.\r\n",
        "\r\n",
        "You have the TotalPop per state, and you have the Men per state. As an estimate for the nan values in the Women column, you could use the TotalPop of that state minus the Men for that state.\r\n",
        "\r\n",
        "Print out the Women column after filling the nan values to see if it worked!\r\n"
      ]
    },
    {
      "cell_type": "code",
      "metadata": {
        "id": "VvXIiMywUalT"
      },
      "source": [
        "us_census[\"the Women\"] = us_census[\"the Women\"].fillna(us_census[\"TotalPop\"]-us_census[\"the Men\"]).astype(int)\r\n"
      ],
      "execution_count": 26,
      "outputs": []
    },
    {
      "cell_type": "markdown",
      "metadata": {
        "id": "_WycEM7FVHqw"
      },
      "source": [
        "10.\r\n",
        "We forgot to check for duplicates! Use .duplicated() on your census DataFrame to see if we have duplicate rows in there.\r\n"
      ]
    },
    {
      "cell_type": "code",
      "metadata": {
        "id": "JGzTWrRhUTAO",
        "colab": {
          "base_uri": "https://localhost:8080/"
        },
        "outputId": "19f8749b-2a4e-43d9-a2c3-47f1f963196e"
      },
      "source": [
        "us_census.duplicated()"
      ],
      "execution_count": 28,
      "outputs": [
        {
          "output_type": "execute_result",
          "data": {
            "text/plain": [
              "0     False\n",
              "1     False\n",
              "2     False\n",
              "3     False\n",
              "4     False\n",
              "5     False\n",
              "6     False\n",
              "7     False\n",
              "8     False\n",
              "9     False\n",
              "10    False\n",
              "11    False\n",
              "12    False\n",
              "13    False\n",
              "14    False\n",
              "15    False\n",
              "16    False\n",
              "17    False\n",
              "18    False\n",
              "19    False\n",
              "20    False\n",
              "21    False\n",
              "22    False\n",
              "23    False\n",
              "24    False\n",
              "25    False\n",
              "26    False\n",
              "27    False\n",
              "28    False\n",
              "29    False\n",
              "30    False\n",
              "31    False\n",
              "32    False\n",
              "33    False\n",
              "34    False\n",
              "35    False\n",
              "36    False\n",
              "37    False\n",
              "38    False\n",
              "39    False\n",
              "40    False\n",
              "41    False\n",
              "42    False\n",
              "43    False\n",
              "44    False\n",
              "45    False\n",
              "46    False\n",
              "47    False\n",
              "48    False\n",
              "49    False\n",
              "50    False\n",
              "51    False\n",
              "52    False\n",
              "53    False\n",
              "54    False\n",
              "55    False\n",
              "56    False\n",
              "57    False\n",
              "58    False\n",
              "59    False\n",
              "dtype: bool"
            ]
          },
          "metadata": {
            "tags": []
          },
          "execution_count": 28
        }
      ]
    },
    {
      "cell_type": "markdown",
      "metadata": {
        "id": "ijDWO9yRVPkN"
      },
      "source": [
        "11.\r\n",
        "Drop those duplicates using the .drop_duplicates() function.\r\n"
      ]
    },
    {
      "cell_type": "code",
      "metadata": {
        "id": "jJ_7nwQ8O7FD"
      },
      "source": [
        "us_census.drop_duplicates(inplace = True)"
      ],
      "execution_count": 29,
      "outputs": []
    },
    {
      "cell_type": "markdown",
      "metadata": {
        "id": "x98Mv5jxVaap"
      },
      "source": [
        "12.Make the scatterplot again. Now, it should be perfect! Your job is secure, for now.\r\n",
        "\r\n"
      ]
    },
    {
      "cell_type": "code",
      "metadata": {
        "colab": {
          "base_uri": "https://localhost:8080/",
          "height": 278
        },
        "id": "g_R90lYsO7HL",
        "outputId": "226230d8-e365-4210-ac42-2c3d669e0838"
      },
      "source": [
        "plt.scatter(us_census[\"the Women\"], us_census[\"Income\"])\r\n",
        "plt.show()"
      ],
      "execution_count": 30,
      "outputs": [
        {
          "output_type": "display_data",
          "data": {
            "image/png": "[encoded data removed]",
            "text/plain": [
              "<Figure size 432x288 with 1 Axes>"
            ]
          },
          "metadata": {
            "tags": [],
            "needs_background": "light"
          }
        }
      ]
    },
    {
      "cell_type": "markdown",
      "metadata": {
        "id": "TZDo5JTjVstP"
      },
      "source": [
        "13.\r\n",
        "Now, your boss wants you to make a bunch of histograms out of the race data that you have. Look at the .columns again to see what the race categories are.\r\n"
      ]
    },
    {
      "cell_type": "code",
      "metadata": {
        "colab": {
          "base_uri": "https://localhost:8080/"
        },
        "id": "ufF2mUPiO7KR",
        "outputId": "4a44a904-5a07-463b-f276-09e443b68228"
      },
      "source": [
        "us_census.columns"
      ],
      "execution_count": 31,
      "outputs": [
        {
          "output_type": "execute_result",
          "data": {
            "text/plain": [
              "Index(['Unnamed: 0', 'State', 'TotalPop', 'Hispanic', 'White', 'Black',\n",
              "       'Native', 'Asian', 'Pacific', 'Income', 'GenderPop', 'the Men',\n",
              "       'the Women'],\n",
              "      dtype='object')"
            ]
          },
          "metadata": {
            "tags": []
          },
          "execution_count": 31
        }
      ]
    },
    {
      "cell_type": "markdown",
      "metadata": {
        "id": "twEc4k4pY3Vx"
      },
      "source": [
        "14.\r\n",
        "Try to make a histogram for each one!\r\n",
        "\r\n",
        "You will have to get the columns into numerical format, and those percentage signs will have to go.\r\n",
        "\r\n",
        "Don’t forget to fill the nan values with something that makes sense! You probably dropped the duplicate rows when making your last graph, but it couldn’t hurt to check for duplicates again.\r\n",
        "\r\n"
      ]
    },
    {
      "cell_type": "code",
      "metadata": {
        "id": "UGK0ltPIO7MM"
      },
      "source": [
        "def remove_sign(Name):\r\n",
        "  us_census[Name] = us_census[Name].str.replace(\"%\",\"\").astype(float)\r\n",
        "remove_sign(\"Hispanic\")\r\n",
        "remove_sign(\"White\")\r\n",
        "remove_sign(\"Black\")\r\n",
        "remove_sign(\"Native\")\r\n",
        "remove_sign(\"Asian\")            \r\n",
        "remove_sign(\"Pacific\")"
      ],
      "execution_count": 32,
      "outputs": []
    },
    {
      "cell_type": "code",
      "metadata": {
        "colab": {
          "base_uri": "https://localhost:8080/"
        },
        "id": "qpsXJFH_ZEe5",
        "outputId": "b0dfe82c-3532-47e2-f091-e85803b32f06"
      },
      "source": [
        "us_census.isnull().sum()"
      ],
      "execution_count": 33,
      "outputs": [
        {
          "output_type": "execute_result",
          "data": {
            "text/plain": [
              "Unnamed: 0    0\n",
              "State         0\n",
              "TotalPop      0\n",
              "Hispanic      0\n",
              "White         0\n",
              "Black         0\n",
              "Native        0\n",
              "Asian         0\n",
              "Pacific       5\n",
              "Income        0\n",
              "GenderPop     0\n",
              "the Men       0\n",
              "the Women     0\n",
              "dtype: int64"
            ]
          },
          "metadata": {
            "tags": []
          },
          "execution_count": 33
        }
      ]
    },
    {
      "cell_type": "code",
      "metadata": {
        "id": "9KE9OvrQZONz"
      },
      "source": [
        "def fill(Name):\r\n",
        "  us_census[Name] = us_census[Name].fillna(us_census[Name].mean())\r\n",
        "fill(\"Pacific\")"
      ],
      "execution_count": 34,
      "outputs": []
    },
    {
      "cell_type": "code",
      "metadata": {
        "colab": {
          "base_uri": "https://localhost:8080/"
        },
        "id": "_FhPB9W4ZpHl",
        "outputId": "637eb3a9-385c-42ca-ef16-476c039d2262"
      },
      "source": [
        "us_census.duplicated()"
      ],
      "execution_count": 35,
      "outputs": [
        {
          "output_type": "execute_result",
          "data": {
            "text/plain": [
              "0     False\n",
              "1     False\n",
              "2     False\n",
              "3     False\n",
              "4     False\n",
              "5     False\n",
              "6     False\n",
              "7     False\n",
              "8     False\n",
              "9     False\n",
              "10    False\n",
              "11    False\n",
              "12    False\n",
              "13    False\n",
              "14    False\n",
              "15    False\n",
              "16    False\n",
              "17    False\n",
              "18    False\n",
              "19    False\n",
              "20    False\n",
              "21    False\n",
              "22    False\n",
              "23    False\n",
              "24    False\n",
              "25    False\n",
              "26    False\n",
              "27    False\n",
              "28    False\n",
              "29    False\n",
              "30    False\n",
              "31    False\n",
              "32    False\n",
              "33    False\n",
              "34    False\n",
              "35    False\n",
              "36    False\n",
              "37    False\n",
              "38    False\n",
              "39    False\n",
              "40    False\n",
              "41    False\n",
              "42    False\n",
              "43    False\n",
              "44    False\n",
              "45    False\n",
              "46    False\n",
              "47    False\n",
              "48    False\n",
              "49    False\n",
              "50    False\n",
              "51    False\n",
              "52    False\n",
              "53    False\n",
              "54    False\n",
              "55    False\n",
              "56    False\n",
              "57    False\n",
              "58    False\n",
              "59    False\n",
              "dtype: bool"
            ]
          },
          "metadata": {
            "tags": []
          },
          "execution_count": 35
        }
      ]
    },
    {
      "cell_type": "code",
      "metadata": {
        "colab": {
          "base_uri": "https://localhost:8080/",
          "height": 316
        },
        "id": "JekEhdS9O7PQ",
        "outputId": "e6d74c16-57ae-4759-fa99-dfcb3e893e9c"
      },
      "source": [
        "x = [\"Hispanic\",\"White\",\"Black\",\"Native\",\"Asian\",\"Pacific\"]\r\n",
        "plt.hist(x,bins=10)"
      ],
      "execution_count": 36,
      "outputs": [
        {
          "output_type": "execute_result",
          "data": {
            "text/plain": [
              "(array([1., 0., 1., 0., 1., 0., 1., 0., 1., 1.]),\n",
              " array([0. , 0.5, 1. , 1.5, 2. , 2.5, 3. , 3.5, 4. , 4.5, 5. ]),\n",
              " <a list of 10 Patch objects>)"
            ]
          },
          "metadata": {
            "tags": []
          },
          "execution_count": 36
        },
        {
          "output_type": "display_data",
          "data": {
            "image/png": "[encoded data removed]",
            "text/plain": [
              "<Figure size 432x288 with 1 Axes>"
            ]
          },
          "metadata": {
            "tags": [],
            "needs_background": "light"
          }
        }
      ]
    },
    {
      "cell_type": "markdown",
      "metadata": {
        "id": "vxljKepSADCv"
      },
      "source": [
        "# ***Part2***"
      ]
    },
    {
      "cell_type": "markdown",
      "metadata": {
        "id": "zzIChdUz7_9r"
      },
      "source": [
        "1.\r\n",
        "Data for all of the locations of Petal Power is in the file inventory.csv. Load the data into a DataFrame called inventory."
      ]
    },
    {
      "cell_type": "code",
      "metadata": {
        "id": "7m-zWfg88AoJ"
      },
      "source": [
        "inventory = pd.read_csv(\"inventory.csv\")"
      ],
      "execution_count": 39,
      "outputs": []
    },
    {
      "cell_type": "markdown",
      "metadata": {
        "id": "P2gY9pBR8JiW"
      },
      "source": [
        "2.\r\n",
        "Inspect the first 10 rows of inventory."
      ]
    },
    {
      "cell_type": "code",
      "metadata": {
        "colab": {
          "base_uri": "https://localhost:8080/",
          "height": 359
        },
        "id": "0JmuLxRz8LVN",
        "outputId": "14bdf591-7eb9-44d2-d18e-a6b491d1b721"
      },
      "source": [
        "inventory.head(10)"
      ],
      "execution_count": 40,
      "outputs": [
        {
          "output_type": "execute_result",
          "data": {
            "text/html": [
              "<div>\n",
              "<style scoped>\n",
              "    .dataframe tbody tr th:only-of-type {\n",
              "        vertical-align: middle;\n",
              "    }\n",
              "\n",
              "    .dataframe tbody tr th {\n",
              "        vertical-align: top;\n",
              "    }\n",
              "\n",
              "    .dataframe thead th {\n",
              "        text-align: right;\n",
              "    }\n",
              "</style>\n",
              "<table border=\"1\" class=\"dataframe\">\n",
              "  <thead>\n",
              "    <tr style=\"text-align: right;\">\n",
              "      <th></th>\n",
              "      <th>location</th>\n",
              "      <th>product_type</th>\n",
              "      <th>product_description</th>\n",
              "      <th>quantity</th>\n",
              "      <th>price</th>\n",
              "    </tr>\n",
              "  </thead>\n",
              "  <tbody>\n",
              "    <tr>\n",
              "      <th>0</th>\n",
              "      <td>Staten Island</td>\n",
              "      <td>seeds</td>\n",
              "      <td>daisy</td>\n",
              "      <td>4</td>\n",
              "      <td>6.99</td>\n",
              "    </tr>\n",
              "    <tr>\n",
              "      <th>1</th>\n",
              "      <td>Staten Island</td>\n",
              "      <td>seeds</td>\n",
              "      <td>calla lily</td>\n",
              "      <td>46</td>\n",
              "      <td>19.99</td>\n",
              "    </tr>\n",
              "    <tr>\n",
              "      <th>2</th>\n",
              "      <td>Staten Island</td>\n",
              "      <td>seeds</td>\n",
              "      <td>tomato</td>\n",
              "      <td>85</td>\n",
              "      <td>13.99</td>\n",
              "    </tr>\n",
              "    <tr>\n",
              "      <th>3</th>\n",
              "      <td>Staten Island</td>\n",
              "      <td>garden tools</td>\n",
              "      <td>rake</td>\n",
              "      <td>4</td>\n",
              "      <td>13.99</td>\n",
              "    </tr>\n",
              "    <tr>\n",
              "      <th>4</th>\n",
              "      <td>Staten Island</td>\n",
              "      <td>garden tools</td>\n",
              "      <td>wheelbarrow</td>\n",
              "      <td>0</td>\n",
              "      <td>89.99</td>\n",
              "    </tr>\n",
              "    <tr>\n",
              "      <th>5</th>\n",
              "      <td>Staten Island</td>\n",
              "      <td>garden tools</td>\n",
              "      <td>spade</td>\n",
              "      <td>93</td>\n",
              "      <td>19.99</td>\n",
              "    </tr>\n",
              "    <tr>\n",
              "      <th>6</th>\n",
              "      <td>Staten Island</td>\n",
              "      <td>pest_control</td>\n",
              "      <td>insect killer</td>\n",
              "      <td>74</td>\n",
              "      <td>12.99</td>\n",
              "    </tr>\n",
              "    <tr>\n",
              "      <th>7</th>\n",
              "      <td>Staten Island</td>\n",
              "      <td>pest_control</td>\n",
              "      <td>weed killer</td>\n",
              "      <td>8</td>\n",
              "      <td>23.99</td>\n",
              "    </tr>\n",
              "    <tr>\n",
              "      <th>8</th>\n",
              "      <td>Staten Island</td>\n",
              "      <td>planter</td>\n",
              "      <td>20 inch terracotta planter</td>\n",
              "      <td>0</td>\n",
              "      <td>17.99</td>\n",
              "    </tr>\n",
              "    <tr>\n",
              "      <th>9</th>\n",
              "      <td>Staten Island</td>\n",
              "      <td>planter</td>\n",
              "      <td>8 inch plastic planter</td>\n",
              "      <td>53</td>\n",
              "      <td>3.99</td>\n",
              "    </tr>\n",
              "  </tbody>\n",
              "</table>\n",
              "</div>"
            ],
            "text/plain": [
              "        location  product_type         product_description  quantity  price\n",
              "0  Staten Island         seeds                       daisy         4   6.99\n",
              "1  Staten Island         seeds                  calla lily        46  19.99\n",
              "2  Staten Island         seeds                      tomato        85  13.99\n",
              "3  Staten Island  garden tools                        rake         4  13.99\n",
              "4  Staten Island  garden tools                 wheelbarrow         0  89.99\n",
              "5  Staten Island  garden tools                       spade        93  19.99\n",
              "6  Staten Island  pest_control               insect killer        74  12.99\n",
              "7  Staten Island  pest_control                 weed killer         8  23.99\n",
              "8  Staten Island       planter  20 inch terracotta planter         0  17.99\n",
              "9  Staten Island       planter      8 inch plastic planter        53   3.99"
            ]
          },
          "metadata": {
            "tags": []
          },
          "execution_count": 40
        }
      ]
    },
    {
      "cell_type": "markdown",
      "metadata": {
        "id": "q37PmVXN8Wlc"
      },
      "source": [
        "3.\r\n",
        "The first 10 rows represent data from your Staten Island location. Select these rows and save them to staten_island."
      ]
    },
    {
      "cell_type": "code",
      "metadata": {
        "colab": {
          "base_uri": "https://localhost:8080/",
          "height": 359
        },
        "id": "s2Ia6Nsb8OWe",
        "outputId": "01cbd797-4327-4451-bd00-bb878e0ee000"
      },
      "source": [
        "staten_island = inventory.iloc[:10,:]\r\n",
        "staten_island"
      ],
      "execution_count": 41,
      "outputs": [
        {
          "output_type": "execute_result",
          "data": {
            "text/html": [
              "<div>\n",
              "<style scoped>\n",
              "    .dataframe tbody tr th:only-of-type {\n",
              "        vertical-align: middle;\n",
              "    }\n",
              "\n",
              "    .dataframe tbody tr th {\n",
              "        vertical-align: top;\n",
              "    }\n",
              "\n",
              "    .dataframe thead th {\n",
              "        text-align: right;\n",
              "    }\n",
              "</style>\n",
              "<table border=\"1\" class=\"dataframe\">\n",
              "  <thead>\n",
              "    <tr style=\"text-align: right;\">\n",
              "      <th></th>\n",
              "      <th>location</th>\n",
              "      <th>product_type</th>\n",
              "      <th>product_description</th>\n",
              "      <th>quantity</th>\n",
              "      <th>price</th>\n",
              "    </tr>\n",
              "  </thead>\n",
              "  <tbody>\n",
              "    <tr>\n",
              "      <th>0</th>\n",
              "      <td>Staten Island</td>\n",
              "      <td>seeds</td>\n",
              "      <td>daisy</td>\n",
              "      <td>4</td>\n",
              "      <td>6.99</td>\n",
              "    </tr>\n",
              "    <tr>\n",
              "      <th>1</th>\n",
              "      <td>Staten Island</td>\n",
              "      <td>seeds</td>\n",
              "      <td>calla lily</td>\n",
              "      <td>46</td>\n",
              "      <td>19.99</td>\n",
              "    </tr>\n",
              "    <tr>\n",
              "      <th>2</th>\n",
              "      <td>Staten Island</td>\n",
              "      <td>seeds</td>\n",
              "      <td>tomato</td>\n",
              "      <td>85</td>\n",
              "      <td>13.99</td>\n",
              "    </tr>\n",
              "    <tr>\n",
              "      <th>3</th>\n",
              "      <td>Staten Island</td>\n",
              "      <td>garden tools</td>\n",
              "      <td>rake</td>\n",
              "      <td>4</td>\n",
              "      <td>13.99</td>\n",
              "    </tr>\n",
              "    <tr>\n",
              "      <th>4</th>\n",
              "      <td>Staten Island</td>\n",
              "      <td>garden tools</td>\n",
              "      <td>wheelbarrow</td>\n",
              "      <td>0</td>\n",
              "      <td>89.99</td>\n",
              "    </tr>\n",
              "    <tr>\n",
              "      <th>5</th>\n",
              "      <td>Staten Island</td>\n",
              "      <td>garden tools</td>\n",
              "      <td>spade</td>\n",
              "      <td>93</td>\n",
              "      <td>19.99</td>\n",
              "    </tr>\n",
              "    <tr>\n",
              "      <th>6</th>\n",
              "      <td>Staten Island</td>\n",
              "      <td>pest_control</td>\n",
              "      <td>insect killer</td>\n",
              "      <td>74</td>\n",
              "      <td>12.99</td>\n",
              "    </tr>\n",
              "    <tr>\n",
              "      <th>7</th>\n",
              "      <td>Staten Island</td>\n",
              "      <td>pest_control</td>\n",
              "      <td>weed killer</td>\n",
              "      <td>8</td>\n",
              "      <td>23.99</td>\n",
              "    </tr>\n",
              "    <tr>\n",
              "      <th>8</th>\n",
              "      <td>Staten Island</td>\n",
              "      <td>planter</td>\n",
              "      <td>20 inch terracotta planter</td>\n",
              "      <td>0</td>\n",
              "      <td>17.99</td>\n",
              "    </tr>\n",
              "    <tr>\n",
              "      <th>9</th>\n",
              "      <td>Staten Island</td>\n",
              "      <td>planter</td>\n",
              "      <td>8 inch plastic planter</td>\n",
              "      <td>53</td>\n",
              "      <td>3.99</td>\n",
              "    </tr>\n",
              "  </tbody>\n",
              "</table>\n",
              "</div>"
            ],
            "text/plain": [
              "        location  product_type         product_description  quantity  price\n",
              "0  Staten Island         seeds                       daisy         4   6.99\n",
              "1  Staten Island         seeds                  calla lily        46  19.99\n",
              "2  Staten Island         seeds                      tomato        85  13.99\n",
              "3  Staten Island  garden tools                        rake         4  13.99\n",
              "4  Staten Island  garden tools                 wheelbarrow         0  89.99\n",
              "5  Staten Island  garden tools                       spade        93  19.99\n",
              "6  Staten Island  pest_control               insect killer        74  12.99\n",
              "7  Staten Island  pest_control                 weed killer         8  23.99\n",
              "8  Staten Island       planter  20 inch terracotta planter         0  17.99\n",
              "9  Staten Island       planter      8 inch plastic planter        53   3.99"
            ]
          },
          "metadata": {
            "tags": []
          },
          "execution_count": 41
        }
      ]
    },
    {
      "cell_type": "markdown",
      "metadata": {
        "id": "OFkdMR978qeA"
      },
      "source": [
        "4.\r\n",
        "A customer just emailed you asking what products are sold at your Staten Island location. Select the column product_description from staten_island and save it to the variable product_request."
      ]
    },
    {
      "cell_type": "code",
      "metadata": {
        "colab": {
          "base_uri": "https://localhost:8080/"
        },
        "id": "5_QUUfgi8iy8",
        "outputId": "fced07ec-79c9-40f0-aac4-3e56dc621a2e"
      },
      "source": [
        "product_request = staten_island[\"product_description\"]\r\n",
        "product_request"
      ],
      "execution_count": 42,
      "outputs": [
        {
          "output_type": "execute_result",
          "data": {
            "text/plain": [
              "0                         daisy\n",
              "1                    calla lily\n",
              "2                        tomato\n",
              "3                          rake\n",
              "4                   wheelbarrow\n",
              "5                         spade\n",
              "6                 insect killer\n",
              "7                   weed killer\n",
              "8    20 inch terracotta planter\n",
              "9        8 inch plastic planter\n",
              "Name: product_description, dtype: object"
            ]
          },
          "metadata": {
            "tags": []
          },
          "execution_count": 42
        }
      ]
    },
    {
      "cell_type": "markdown",
      "metadata": {
        "id": "WPcqLKba9IKL"
      },
      "source": [
        "5.\r\n",
        "Another customer emails to ask what types of seeds are sold at the Brooklyn location.\r\n",
        "\r\n",
        "Select all rows where location is equal to Brooklyn and product_type is equal to seeds and save them to the variable seed_request"
      ]
    },
    {
      "cell_type": "code",
      "metadata": {
        "colab": {
          "base_uri": "https://localhost:8080/",
          "height": 142
        },
        "id": "1hWDs_tk8_Dh",
        "outputId": "238d600d-4ac8-42f0-b566-684c68087962"
      },
      "source": [
        "seed_request = inventory.loc[(inventory[\"location\"] == \"Brooklyn\")& (inventory[\"product_type\"] == \"seeds\")]\r\n",
        "seed_request"
      ],
      "execution_count": 43,
      "outputs": [
        {
          "output_type": "execute_result",
          "data": {
            "text/html": [
              "<div>\n",
              "<style scoped>\n",
              "    .dataframe tbody tr th:only-of-type {\n",
              "        vertical-align: middle;\n",
              "    }\n",
              "\n",
              "    .dataframe tbody tr th {\n",
              "        vertical-align: top;\n",
              "    }\n",
              "\n",
              "    .dataframe thead th {\n",
              "        text-align: right;\n",
              "    }\n",
              "</style>\n",
              "<table border=\"1\" class=\"dataframe\">\n",
              "  <thead>\n",
              "    <tr style=\"text-align: right;\">\n",
              "      <th></th>\n",
              "      <th>location</th>\n",
              "      <th>product_type</th>\n",
              "      <th>product_description</th>\n",
              "      <th>quantity</th>\n",
              "      <th>price</th>\n",
              "    </tr>\n",
              "  </thead>\n",
              "  <tbody>\n",
              "    <tr>\n",
              "      <th>10</th>\n",
              "      <td>Brooklyn</td>\n",
              "      <td>seeds</td>\n",
              "      <td>daisy</td>\n",
              "      <td>50</td>\n",
              "      <td>6.99</td>\n",
              "    </tr>\n",
              "    <tr>\n",
              "      <th>11</th>\n",
              "      <td>Brooklyn</td>\n",
              "      <td>seeds</td>\n",
              "      <td>calla lily</td>\n",
              "      <td>0</td>\n",
              "      <td>19.99</td>\n",
              "    </tr>\n",
              "    <tr>\n",
              "      <th>12</th>\n",
              "      <td>Brooklyn</td>\n",
              "      <td>seeds</td>\n",
              "      <td>tomato</td>\n",
              "      <td>0</td>\n",
              "      <td>13.99</td>\n",
              "    </tr>\n",
              "  </tbody>\n",
              "</table>\n",
              "</div>"
            ],
            "text/plain": [
              "    location product_type product_description  quantity  price\n",
              "10  Brooklyn        seeds               daisy        50   6.99\n",
              "11  Brooklyn        seeds          calla lily         0  19.99\n",
              "12  Brooklyn        seeds              tomato         0  13.99"
            ]
          },
          "metadata": {
            "tags": []
          },
          "execution_count": 43
        }
      ]
    },
    {
      "cell_type": "markdown",
      "metadata": {
        "id": "0YLLneEj-BjS"
      },
      "source": [
        "Inventory\r\n",
        "6.\r\n",
        "Add a column to inventory called in_stock which is True if quantity is greater than 0 and False if quantity equals 0."
      ]
    },
    {
      "cell_type": "code",
      "metadata": {
        "colab": {
          "base_uri": "https://localhost:8080/",
          "height": 359
        },
        "id": "-I_eRZ-G9rfO",
        "outputId": "5bbf1d73-c299-40f6-82f4-b658c4116480"
      },
      "source": [
        "a = lambda x: \"True\" if x>0 else \"False\"\r\n",
        "inventory[\"in_stock\"] = inventory.quantity.apply(a) \r\n",
        "inventory.head(10)"
      ],
      "execution_count": 44,
      "outputs": [
        {
          "output_type": "execute_result",
          "data": {
            "text/html": [
              "<div>\n",
              "<style scoped>\n",
              "    .dataframe tbody tr th:only-of-type {\n",
              "        vertical-align: middle;\n",
              "    }\n",
              "\n",
              "    .dataframe tbody tr th {\n",
              "        vertical-align: top;\n",
              "    }\n",
              "\n",
              "    .dataframe thead th {\n",
              "        text-align: right;\n",
              "    }\n",
              "</style>\n",
              "<table border=\"1\" class=\"dataframe\">\n",
              "  <thead>\n",
              "    <tr style=\"text-align: right;\">\n",
              "      <th></th>\n",
              "      <th>location</th>\n",
              "      <th>product_type</th>\n",
              "      <th>product_description</th>\n",
              "      <th>quantity</th>\n",
              "      <th>price</th>\n",
              "      <th>in_stock</th>\n",
              "    </tr>\n",
              "  </thead>\n",
              "  <tbody>\n",
              "    <tr>\n",
              "      <th>0</th>\n",
              "      <td>Staten Island</td>\n",
              "      <td>seeds</td>\n",
              "      <td>daisy</td>\n",
              "      <td>4</td>\n",
              "      <td>6.99</td>\n",
              "      <td>True</td>\n",
              "    </tr>\n",
              "    <tr>\n",
              "      <th>1</th>\n",
              "      <td>Staten Island</td>\n",
              "      <td>seeds</td>\n",
              "      <td>calla lily</td>\n",
              "      <td>46</td>\n",
              "      <td>19.99</td>\n",
              "      <td>True</td>\n",
              "    </tr>\n",
              "    <tr>\n",
              "      <th>2</th>\n",
              "      <td>Staten Island</td>\n",
              "      <td>seeds</td>\n",
              "      <td>tomato</td>\n",
              "      <td>85</td>\n",
              "      <td>13.99</td>\n",
              "      <td>True</td>\n",
              "    </tr>\n",
              "    <tr>\n",
              "      <th>3</th>\n",
              "      <td>Staten Island</td>\n",
              "      <td>garden tools</td>\n",
              "      <td>rake</td>\n",
              "      <td>4</td>\n",
              "      <td>13.99</td>\n",
              "      <td>True</td>\n",
              "    </tr>\n",
              "    <tr>\n",
              "      <th>4</th>\n",
              "      <td>Staten Island</td>\n",
              "      <td>garden tools</td>\n",
              "      <td>wheelbarrow</td>\n",
              "      <td>0</td>\n",
              "      <td>89.99</td>\n",
              "      <td>False</td>\n",
              "    </tr>\n",
              "    <tr>\n",
              "      <th>5</th>\n",
              "      <td>Staten Island</td>\n",
              "      <td>garden tools</td>\n",
              "      <td>spade</td>\n",
              "      <td>93</td>\n",
              "      <td>19.99</td>\n",
              "      <td>True</td>\n",
              "    </tr>\n",
              "    <tr>\n",
              "      <th>6</th>\n",
              "      <td>Staten Island</td>\n",
              "      <td>pest_control</td>\n",
              "      <td>insect killer</td>\n",
              "      <td>74</td>\n",
              "      <td>12.99</td>\n",
              "      <td>True</td>\n",
              "    </tr>\n",
              "    <tr>\n",
              "      <th>7</th>\n",
              "      <td>Staten Island</td>\n",
              "      <td>pest_control</td>\n",
              "      <td>weed killer</td>\n",
              "      <td>8</td>\n",
              "      <td>23.99</td>\n",
              "      <td>True</td>\n",
              "    </tr>\n",
              "    <tr>\n",
              "      <th>8</th>\n",
              "      <td>Staten Island</td>\n",
              "      <td>planter</td>\n",
              "      <td>20 inch terracotta planter</td>\n",
              "      <td>0</td>\n",
              "      <td>17.99</td>\n",
              "      <td>False</td>\n",
              "    </tr>\n",
              "    <tr>\n",
              "      <th>9</th>\n",
              "      <td>Staten Island</td>\n",
              "      <td>planter</td>\n",
              "      <td>8 inch plastic planter</td>\n",
              "      <td>53</td>\n",
              "      <td>3.99</td>\n",
              "      <td>True</td>\n",
              "    </tr>\n",
              "  </tbody>\n",
              "</table>\n",
              "</div>"
            ],
            "text/plain": [
              "        location  product_type  ...  price  in_stock\n",
              "0  Staten Island         seeds  ...   6.99      True\n",
              "1  Staten Island         seeds  ...  19.99      True\n",
              "2  Staten Island         seeds  ...  13.99      True\n",
              "3  Staten Island  garden tools  ...  13.99      True\n",
              "4  Staten Island  garden tools  ...  89.99     False\n",
              "5  Staten Island  garden tools  ...  19.99      True\n",
              "6  Staten Island  pest_control  ...  12.99      True\n",
              "7  Staten Island  pest_control  ...  23.99      True\n",
              "8  Staten Island       planter  ...  17.99     False\n",
              "9  Staten Island       planter  ...   3.99      True\n",
              "\n",
              "[10 rows x 6 columns]"
            ]
          },
          "metadata": {
            "tags": []
          },
          "execution_count": 44
        }
      ]
    },
    {
      "cell_type": "markdown",
      "metadata": {
        "id": "13Kwv0cG-o1V"
      },
      "source": [
        "7.\r\n",
        "Petal Power wants to know how valuable their current inventory is.\r\n",
        "\r\n",
        "Create a column called total_value that is equal to price multiplied by quantity."
      ]
    },
    {
      "cell_type": "code",
      "metadata": {
        "colab": {
          "base_uri": "https://localhost:8080/",
          "height": 204
        },
        "id": "ibL0Da4B-Zw_",
        "outputId": "369b61c2-cf3d-48e8-9e88-78b4cb86c9ff"
      },
      "source": [
        "inventory[\"total_value\"] = inventory[\"price\"] * inventory[\"quantity\"]\r\n",
        "inventory.head()"
      ],
      "execution_count": 45,
      "outputs": [
        {
          "output_type": "execute_result",
          "data": {
            "text/html": [
              "<div>\n",
              "<style scoped>\n",
              "    .dataframe tbody tr th:only-of-type {\n",
              "        vertical-align: middle;\n",
              "    }\n",
              "\n",
              "    .dataframe tbody tr th {\n",
              "        vertical-align: top;\n",
              "    }\n",
              "\n",
              "    .dataframe thead th {\n",
              "        text-align: right;\n",
              "    }\n",
              "</style>\n",
              "<table border=\"1\" class=\"dataframe\">\n",
              "  <thead>\n",
              "    <tr style=\"text-align: right;\">\n",
              "      <th></th>\n",
              "      <th>location</th>\n",
              "      <th>product_type</th>\n",
              "      <th>product_description</th>\n",
              "      <th>quantity</th>\n",
              "      <th>price</th>\n",
              "      <th>in_stock</th>\n",
              "      <th>total_value</th>\n",
              "    </tr>\n",
              "  </thead>\n",
              "  <tbody>\n",
              "    <tr>\n",
              "      <th>0</th>\n",
              "      <td>Staten Island</td>\n",
              "      <td>seeds</td>\n",
              "      <td>daisy</td>\n",
              "      <td>4</td>\n",
              "      <td>6.99</td>\n",
              "      <td>True</td>\n",
              "      <td>27.96</td>\n",
              "    </tr>\n",
              "    <tr>\n",
              "      <th>1</th>\n",
              "      <td>Staten Island</td>\n",
              "      <td>seeds</td>\n",
              "      <td>calla lily</td>\n",
              "      <td>46</td>\n",
              "      <td>19.99</td>\n",
              "      <td>True</td>\n",
              "      <td>919.54</td>\n",
              "    </tr>\n",
              "    <tr>\n",
              "      <th>2</th>\n",
              "      <td>Staten Island</td>\n",
              "      <td>seeds</td>\n",
              "      <td>tomato</td>\n",
              "      <td>85</td>\n",
              "      <td>13.99</td>\n",
              "      <td>True</td>\n",
              "      <td>1189.15</td>\n",
              "    </tr>\n",
              "    <tr>\n",
              "      <th>3</th>\n",
              "      <td>Staten Island</td>\n",
              "      <td>garden tools</td>\n",
              "      <td>rake</td>\n",
              "      <td>4</td>\n",
              "      <td>13.99</td>\n",
              "      <td>True</td>\n",
              "      <td>55.96</td>\n",
              "    </tr>\n",
              "    <tr>\n",
              "      <th>4</th>\n",
              "      <td>Staten Island</td>\n",
              "      <td>garden tools</td>\n",
              "      <td>wheelbarrow</td>\n",
              "      <td>0</td>\n",
              "      <td>89.99</td>\n",
              "      <td>False</td>\n",
              "      <td>0.00</td>\n",
              "    </tr>\n",
              "  </tbody>\n",
              "</table>\n",
              "</div>"
            ],
            "text/plain": [
              "        location  product_type product_description  ...  price  in_stock total_value\n",
              "0  Staten Island         seeds               daisy  ...   6.99      True       27.96\n",
              "1  Staten Island         seeds          calla lily  ...  19.99      True      919.54\n",
              "2  Staten Island         seeds              tomato  ...  13.99      True     1189.15\n",
              "3  Staten Island  garden tools                rake  ...  13.99      True       55.96\n",
              "4  Staten Island  garden tools         wheelbarrow  ...  89.99     False        0.00\n",
              "\n",
              "[5 rows x 7 columns]"
            ]
          },
          "metadata": {
            "tags": []
          },
          "execution_count": 45
        }
      ]
    },
    {
      "cell_type": "markdown",
      "metadata": {
        "id": "D1aw9xNN-67H"
      },
      "source": [
        "8.\r\n",
        "The Marketing department wants a complete description of each product for their catalog.\r\n",
        "\r\n",
        "The following lambda function combines product_type and product_description into a single string:\r\n",
        "\r\n",
        "combine_lambda = lambda row: \\\r\n",
        "    '{} - {}'.format(row.product_type,\r\n",
        "                     row.product_description)\r\n",
        "Paste this function into script.py.\r\n"
      ]
    },
    {
      "cell_type": "code",
      "metadata": {
        "id": "uWQ_9qW1-2uT"
      },
      "source": [
        "combine_lambda = lambda row: '{} - {}'.format(row.product_type, row.product_description)"
      ],
      "execution_count": 46,
      "outputs": []
    },
    {
      "cell_type": "markdown",
      "metadata": {
        "id": "_9VD1PMh_N8U"
      },
      "source": [
        "\r\n",
        "9.\r\n",
        "Using combine_lambda, create a new column in inventory called full_description that has the complete description of each product."
      ]
    },
    {
      "cell_type": "code",
      "metadata": {
        "id": "-BSvDc1I_OXU"
      },
      "source": [
        "inventory[\"full_description\"] = combine_lambda(inventory)"
      ],
      "execution_count": 47,
      "outputs": []
    },
    {
      "cell_type": "code",
      "metadata": {
        "id": "ilZSD1uD_in6"
      },
      "source": [
        ""
      ],
      "execution_count": 47,
      "outputs": []
    },
    {
      "cell_type": "code",
      "metadata": {
        "id": "8VYYpLE8Jshr"
      },
      "source": [
        ""
      ],
      "execution_count": 47,
      "outputs": []
    }
  ]
}